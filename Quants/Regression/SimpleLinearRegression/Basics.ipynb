{
 "cells": [
  {
   "cell_type": "code",
   "execution_count": 2,
   "id": "c858bf4b-4ee9-4428-a69c-9238e6fcd6a7",
   "metadata": {},
   "outputs": [],
   "source": [
    "import numpy as np"
   ]
  },
  {
   "cell_type": "markdown",
   "id": "539809dd-f3ca-43f8-a2a8-d0cca5648ada",
   "metadata": {},
   "source": [
    "## Simple Linear Regression\n",
    "`y = b0 + b1x1 + e`\n",
    "\n",
    "- y - Dependent Variable\n",
    "- b0 - Intercept\n",
    "- x1 - Independent Variable\n",
    "- b1 - Slope for x1\n",
    "- e - Error or Residual\n",
    "\n",
    "\\begin{equation*}\n",
    "\\text{Slope of independent variable (x1)}  = \\frac{\\text{Covariance of x and y}}{\\text{(Varianace of X)}} \n",
    "\\end{equation*}\n",
    "\\begin{equation*}\n",
    "\\text{Slope of independent variable (x1)}  = \\frac{\\sum{(x-\\bar{x})(y-\\bar{y})}}{\\sum{(x-\\bar{x})^2}}\n",
    "\\end{equation*}\n",
    "\n",
    "Note: Correlation formula is very simlar to above. In denominator, instead of covariance of x its STD of x and y\n",
    "\\begin{equation*}\n",
    "\\text{Correlation of x and y}  = \\frac{(x-\\bar{x})(y-\\bar{y})}{STD. of X * STD. of Y}\n",
    "\\end{equation*}"
   ]
  },
  {
   "cell_type": "code",
   "execution_count": 16,
   "id": "b614e1a8-befc-48e1-98b9-2a1e3e8f5726",
   "metadata": {},
   "outputs": [
    {
     "name": "stdout",
     "output_type": "stream",
     "text": [
      "-0.46666666666666695\n",
      "11.500000000000004\n"
     ]
    }
   ],
   "source": [
    "net_profit_margin = np.array([4,5,10,9,5,6,12,13]) \n",
    "R_and_D_Expense = np.array([8,10,6,5,7,9,5,10]) \n",
    "slope, intercept = np.polyfit(R_and_D_Expense, net_profit_margin, 1)\n",
    "print(slope)\n",
    "print(intercept)"
   ]
  },
  {
   "cell_type": "code",
   "execution_count": 29,
   "id": "c353ce2d-0f78-4d25-8b87-c29bd07784ee",
   "metadata": {},
   "outputs": [],
   "source": [
    "def slope(dependent, independent):\n",
    "    dep_mean=np.mean(dependent)\n",
    "    indep_mean=np.mean(independent)\n",
    "    dep = dependent - dep_mean\n",
    "    indep = independent - indep_mean\n",
    "    numerator = (np.sum(dep * indep))/(len(dependent))\n",
    "    return (numerator/np.var(independent))"
   ]
  },
  {
   "cell_type": "code",
   "execution_count": null,
   "id": "f0b94d43-aa09-4980-b445-9cdccd1e3e90",
   "metadata": {},
   "outputs": [],
   "source": []
  },
  {
   "cell_type": "code",
   "execution_count": 30,
   "id": "6780555e-0129-4dd7-b7b8-7f3f7429d5f9",
   "metadata": {},
   "outputs": [
    {
     "data": {
      "text/plain": [
       "-0.4666666666666667"
      ]
     },
     "execution_count": 30,
     "metadata": {},
     "output_type": "execute_result"
    }
   ],
   "source": [
    "slope(net_profit_margin,R_and_D_Expense)"
   ]
  },
  {
   "cell_type": "code",
   "execution_count": null,
   "id": "45b9442b-4a52-4062-ad3d-e377036542a1",
   "metadata": {},
   "outputs": [],
   "source": []
  },
  {
   "cell_type": "code",
   "execution_count": null,
   "id": "77eb37c9-6eab-4a3c-bd11-28051a71738f",
   "metadata": {},
   "outputs": [],
   "source": []
  },
  {
   "cell_type": "code",
   "execution_count": null,
   "id": "7e5bebb6-2267-4455-99d3-3ec4c6b5c65d",
   "metadata": {},
   "outputs": [],
   "source": []
  },
  {
   "cell_type": "code",
   "execution_count": null,
   "id": "be55c3b9-103e-454b-a69f-e3759853b723",
   "metadata": {},
   "outputs": [],
   "source": []
  },
  {
   "cell_type": "code",
   "execution_count": null,
   "id": "7fce8000-edbc-43af-b9fb-732a0202711b",
   "metadata": {},
   "outputs": [],
   "source": []
  },
  {
   "cell_type": "code",
   "execution_count": null,
   "id": "2b3b86a2-1d2d-46a7-a200-77f5ce22660a",
   "metadata": {},
   "outputs": [],
   "source": []
  },
  {
   "cell_type": "code",
   "execution_count": null,
   "id": "af20adf1-e2db-461c-9da8-cde5331414c5",
   "metadata": {},
   "outputs": [],
   "source": []
  },
  {
   "cell_type": "code",
   "execution_count": null,
   "id": "f819500a-9b35-461d-a794-765fb017b6a9",
   "metadata": {},
   "outputs": [],
   "source": []
  },
  {
   "cell_type": "code",
   "execution_count": null,
   "id": "96c63f13-d7c7-4148-ae78-2532e909d709",
   "metadata": {},
   "outputs": [],
   "source": []
  }
 ],
 "metadata": {
  "kernelspec": {
   "display_name": "Python 3 (ipykernel)",
   "language": "python",
   "name": "python3"
  },
  "language_info": {
   "codemirror_mode": {
    "name": "ipython",
    "version": 3
   },
   "file_extension": ".py",
   "mimetype": "text/x-python",
   "name": "python",
   "nbconvert_exporter": "python",
   "pygments_lexer": "ipython3",
   "version": "3.10.13"
  }
 },
 "nbformat": 4,
 "nbformat_minor": 5
}
