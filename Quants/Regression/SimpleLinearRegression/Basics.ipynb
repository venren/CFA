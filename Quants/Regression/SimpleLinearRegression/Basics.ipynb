{
 "cells": [
  {
   "cell_type": "code",
   "execution_count": 26,
   "id": "c858bf4b-4ee9-4428-a69c-9238e6fcd6a7",
   "metadata": {},
   "outputs": [],
   "source": [
    "import numpy as np\n",
    "import pandas as pd\n",
    "import matplotlib.pyplot as plt\n",
    "import seaborn as sns\n",
    "\n",
    "%matplotlib inline"
   ]
  },
  {
   "cell_type": "markdown",
   "id": "539809dd-f3ca-43f8-a2a8-d0cca5648ada",
   "metadata": {},
   "source": [
    "## Simple Linear Regression\n",
    "`y = b0 + b1x1 + e`\n",
    "\n",
    "- y - Dependent Variable\n",
    "- b0 - Intercept\n",
    "- x1 - Independent Variable\n",
    "- b1 - Slope for x1\n",
    "- e - Error or Residual\n",
    "\n",
    "\\begin{equation*}\n",
    "\\text{Slope of independent variable (x1)}  = \\frac{\\text{Covariance of x and y}}{\\text{(Varianace of X)}} \n",
    "\\end{equation*}\n",
    "\\begin{equation*}\n",
    "\\text{Slope of independent variable (x1)}  = \\frac{\\sum{(x-\\bar{x})(y-\\bar{y})}}{\\sum{(x-\\bar{x})^2}}\n",
    "\\end{equation*}\n",
    "\n",
    "Note: Correlation formula is very simlar to above. In denominator, instead of covariance of x its STD of x and y\n",
    "\\begin{equation*}\n",
    "\\text{Correlation of x and y}  = \\frac{(x-\\bar{x})(y-\\bar{y})}{STD. of X * STD. of Y}\n",
    "\\end{equation*}"
   ]
  },
  {
   "cell_type": "code",
   "execution_count": 3,
   "id": "b614e1a8-befc-48e1-98b9-2a1e3e8f5726",
   "metadata": {},
   "outputs": [
    {
     "name": "stdout",
     "output_type": "stream",
     "text": [
      "-1.300000000000001\n",
      "16.500000000000007\n"
     ]
    }
   ],
   "source": [
    "net_profit_margin = np.array([4,5,10,9,5,6,12,3]) \n",
    "R_and_D_Expense = np.array([8,10,6,5,7,9,5,10]) \n",
    "slope, intercept = np.polyfit(R_and_D_Expense, net_profit_margin, 1)\n",
    "print(slope)\n",
    "print(intercept)"
   ]
  },
  {
   "cell_type": "code",
   "execution_count": 4,
   "id": "c353ce2d-0f78-4d25-8b87-c29bd07784ee",
   "metadata": {},
   "outputs": [],
   "source": [
    "def slope(dependent, independent):\n",
    "    dep_mean=np.mean(dependent)\n",
    "    indep_mean=np.mean(independent)\n",
    "    dep = dependent - dep_mean\n",
    "    indep = independent - indep_mean\n",
    "    numerator = (np.sum(dep * indep))/(len(dependent))\n",
    "    return (numerator/np.var(independent))"
   ]
  },
  {
   "cell_type": "code",
   "execution_count": 5,
   "id": "6780555e-0129-4dd7-b7b8-7f3f7429d5f9",
   "metadata": {},
   "outputs": [
    {
     "data": {
      "text/plain": [
       "-1.3"
      ]
     },
     "execution_count": 5,
     "metadata": {},
     "output_type": "execute_result"
    }
   ],
   "source": [
    "slope(net_profit_margin,R_and_D_Expense)"
   ]
  },
  {
   "cell_type": "markdown",
   "id": "b1f3aed2-379f-44f4-b1b3-3cd044048e2d",
   "metadata": {},
   "source": [
    "## Linear regression with Kaggle Datasets"
   ]
  },
  {
   "cell_type": "markdown",
   "id": "1ce62227-ea34-47cc-9521-8140ccab2d83",
   "metadata": {},
   "source": [
    "### Data Clean up!!"
   ]
  },
  {
   "cell_type": "code",
   "execution_count": 3,
   "id": "d4584551-eb27-43e9-b9bf-4df1002e73b3",
   "metadata": {},
   "outputs": [],
   "source": [
    "ds = pd.read_csv(\"./Walmart_sales.csv\")"
   ]
  },
  {
   "cell_type": "code",
   "execution_count": 4,
   "id": "cf59d0ac-abb1-4d44-9464-96e543161886",
   "metadata": {},
   "outputs": [
    {
     "data": {
      "text/html": [
       "<div>\n",
       "<style scoped>\n",
       "    .dataframe tbody tr th:only-of-type {\n",
       "        vertical-align: middle;\n",
       "    }\n",
       "\n",
       "    .dataframe tbody tr th {\n",
       "        vertical-align: top;\n",
       "    }\n",
       "\n",
       "    .dataframe thead th {\n",
       "        text-align: right;\n",
       "    }\n",
       "</style>\n",
       "<table border=\"1\" class=\"dataframe\">\n",
       "  <thead>\n",
       "    <tr style=\"text-align: right;\">\n",
       "      <th></th>\n",
       "      <th>Store</th>\n",
       "      <th>Date</th>\n",
       "      <th>Weekly_Sales</th>\n",
       "      <th>Holiday_Flag</th>\n",
       "      <th>Temperature</th>\n",
       "      <th>Fuel_Price</th>\n",
       "      <th>CPI</th>\n",
       "      <th>Unemployment</th>\n",
       "    </tr>\n",
       "  </thead>\n",
       "  <tbody>\n",
       "    <tr>\n",
       "      <th>0</th>\n",
       "      <td>1</td>\n",
       "      <td>05-02-2010</td>\n",
       "      <td>1643690.90</td>\n",
       "      <td>0</td>\n",
       "      <td>42.31</td>\n",
       "      <td>2.572</td>\n",
       "      <td>211.096358</td>\n",
       "      <td>8.106</td>\n",
       "    </tr>\n",
       "    <tr>\n",
       "      <th>1</th>\n",
       "      <td>1</td>\n",
       "      <td>12-02-2010</td>\n",
       "      <td>1641957.44</td>\n",
       "      <td>1</td>\n",
       "      <td>38.51</td>\n",
       "      <td>2.548</td>\n",
       "      <td>211.242170</td>\n",
       "      <td>8.106</td>\n",
       "    </tr>\n",
       "    <tr>\n",
       "      <th>2</th>\n",
       "      <td>1</td>\n",
       "      <td>19-02-2010</td>\n",
       "      <td>1611968.17</td>\n",
       "      <td>0</td>\n",
       "      <td>39.93</td>\n",
       "      <td>2.514</td>\n",
       "      <td>211.289143</td>\n",
       "      <td>8.106</td>\n",
       "    </tr>\n",
       "    <tr>\n",
       "      <th>3</th>\n",
       "      <td>1</td>\n",
       "      <td>26-02-2010</td>\n",
       "      <td>1409727.59</td>\n",
       "      <td>0</td>\n",
       "      <td>46.63</td>\n",
       "      <td>2.561</td>\n",
       "      <td>211.319643</td>\n",
       "      <td>8.106</td>\n",
       "    </tr>\n",
       "    <tr>\n",
       "      <th>4</th>\n",
       "      <td>1</td>\n",
       "      <td>05-03-2010</td>\n",
       "      <td>1554806.68</td>\n",
       "      <td>0</td>\n",
       "      <td>46.50</td>\n",
       "      <td>2.625</td>\n",
       "      <td>211.350143</td>\n",
       "      <td>8.106</td>\n",
       "    </tr>\n",
       "  </tbody>\n",
       "</table>\n",
       "</div>"
      ],
      "text/plain": [
       "   Store        Date  Weekly_Sales  Holiday_Flag  Temperature  Fuel_Price  \\\n",
       "0      1  05-02-2010    1643690.90             0        42.31       2.572   \n",
       "1      1  12-02-2010    1641957.44             1        38.51       2.548   \n",
       "2      1  19-02-2010    1611968.17             0        39.93       2.514   \n",
       "3      1  26-02-2010    1409727.59             0        46.63       2.561   \n",
       "4      1  05-03-2010    1554806.68             0        46.50       2.625   \n",
       "\n",
       "          CPI  Unemployment  \n",
       "0  211.096358         8.106  \n",
       "1  211.242170         8.106  \n",
       "2  211.289143         8.106  \n",
       "3  211.319643         8.106  \n",
       "4  211.350143         8.106  "
      ]
     },
     "execution_count": 4,
     "metadata": {},
     "output_type": "execute_result"
    }
   ],
   "source": [
    "ds.head()"
   ]
  },
  {
   "cell_type": "code",
   "execution_count": 5,
   "id": "7f8d42ae-7ee7-43c1-8f8b-443f79d4cade",
   "metadata": {},
   "outputs": [
    {
     "data": {
      "text/plain": [
       "array([ 1,  2,  3,  4,  5,  6,  7,  8,  9, 10, 11, 12, 13, 14, 15, 16, 17,\n",
       "       18, 19, 20, 21, 22, 23, 24, 25, 26, 27, 28, 29, 30, 31, 32, 33, 34,\n",
       "       35, 36, 37, 38, 39, 40, 41, 42, 43, 44, 45])"
      ]
     },
     "execution_count": 5,
     "metadata": {},
     "output_type": "execute_result"
    }
   ],
   "source": [
    "ds[\"Store\"].unique()"
   ]
  },
  {
   "cell_type": "code",
   "execution_count": 6,
   "id": "70e94ef5-d062-4ba9-8272-53dc7ae380eb",
   "metadata": {},
   "outputs": [],
   "source": [
    "ds['Date'] = pd.to_datetime(ds['Date'], format='%d-%m-%Y')"
   ]
  },
  {
   "cell_type": "code",
   "execution_count": 31,
   "id": "3af17e85-7889-4b02-9e46-ff35f8e5869a",
   "metadata": {},
   "outputs": [
    {
     "name": "stdout",
     "output_type": "stream",
     "text": [
      "2010-02-05 00:00:00\n",
      "2012-10-26 00:00:00\n"
     ]
    }
   ],
   "source": [
    "print(ds[\"Date\"].min())\n",
    "print(ds[\"Date\"].max())"
   ]
  },
  {
   "cell_type": "code",
   "execution_count": 13,
   "id": "f9caa822-36e3-480c-a9bb-69428393921e",
   "metadata": {},
   "outputs": [
    {
     "data": {
      "text/plain": [
       "False"
      ]
     },
     "execution_count": 13,
     "metadata": {},
     "output_type": "execute_result"
    }
   ],
   "source": [
    "ds[\"Fuel_Price\"].isnull().any() or ds[\"Weekly_Sales\"].isnull().any()"
   ]
  },
  {
   "cell_type": "markdown",
   "id": "2e793b24-fb5d-4193-923d-cecaef43bd73",
   "metadata": {},
   "source": [
    "## Perform linear regerssion with fuel price and sales"
   ]
  },
  {
   "cell_type": "code",
   "execution_count": 15,
   "id": "51489494-8a9f-4ee3-b105-b6fff39c3411",
   "metadata": {},
   "outputs": [],
   "source": [
    "total_data_len = len(ds)\n",
    "train_data_len = round(total_data_len*0.7)\n",
    "validation_data_len = total_data_len - train_data_len\n",
    "train = ds[0:train_data_len].copy()\n",
    "validation = ds[train_data_len:total_data_len].copy()"
   ]
  },
  {
   "cell_type": "code",
   "execution_count": 37,
   "id": "b9d0c43b-c8f2-4fa7-b242-5bbfb3fb3e02",
   "metadata": {},
   "outputs": [
    {
     "data": {
      "text/plain": [
       "[<matplotlib.lines.Line2D at 0x7f5ae21dd870>]"
      ]
     },
     "execution_count": 37,
     "metadata": {},
     "output_type": "execute_result"
    },
    {
     "data": {
      "image/png": "[encoded data removed]",
      "text/plain": [
       "<Figure size 640x480 with 1 Axes>"
      ]
     },
     "metadata": {},
     "output_type": "display_data"
    }
   ],
   "source": [
    "sales = train[\"Weekly_Sales\"].values \n",
    "sales = np.log1p(sales )## Dependent Variable\n",
    "temp = train[\"Temperature\"].values ## Independent Variable\n",
    "trend = np.polyfit(temp, sales, 1)\n",
    "# plot the scatter points\n",
    "plt.plot(temp, sales, 'o')\n",
    "# calculate the trendline\n",
    "trendpoly = np.poly1d(trend) \n",
    "# plot the trend line\n",
    "plt.plot(temp, trendpoly(cpi))"
   ]
  },
  {
   "cell_type": "markdown",
   "id": "ea4e9ba5-3871-4c73-869d-a4c99dd0d444",
   "metadata": {},
   "source": [
    "#### from above graph its clear that sales not impacted by temperature"
   ]
  }
 ],
 "metadata": {
  "kernelspec": {
   "display_name": "Python 3 (ipykernel)",
   "language": "python",
   "name": "python3"
  },
  "language_info": {
   "codemirror_mode": {
    "name": "ipython",
    "version": 3
   },
   "file_extension": ".py",
   "mimetype": "text/x-python",
   "name": "python",
   "nbconvert_exporter": "python",
   "pygments_lexer": "ipython3",
   "version": "3.10.13"
  }
 },
 "nbformat": 4,
 "nbformat_minor": 5
}
