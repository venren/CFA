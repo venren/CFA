{
 "cells": [
  {
   "cell_type": "code",
   "execution_count": 7,
   "id": "c858bf4b-4ee9-4428-a69c-9238e6fcd6a7",
   "metadata": {},
   "outputs": [],
   "source": [
    "import numpy as np\n",
    "import pandas as pd"
   ]
  },
  {
   "cell_type": "markdown",
   "id": "539809dd-f3ca-43f8-a2a8-d0cca5648ada",
   "metadata": {},
   "source": [
    "## Simple Linear Regression\n",
    "`y = b0 + b1x1 + e`\n",
    "\n",
    "- y - Dependent Variable\n",
    "- b0 - Intercept\n",
    "- x1 - Independent Variable\n",
    "- b1 - Slope for x1\n",
    "- e - Error or Residual\n",
    "\n",
    "\\begin{equation*}\n",
    "\\text{Slope of independent variable (x1)}  = \\frac{\\text{Covariance of x and y}}{\\text{(Varianace of X)}} \n",
    "\\end{equation*}\n",
    "\\begin{equation*}\n",
    "\\text{Slope of independent variable (x1)}  = \\frac{\\sum{(x-\\bar{x})(y-\\bar{y})}}{\\sum{(x-\\bar{x})^2}}\n",
    "\\end{equation*}\n",
    "\n",
    "Note: Correlation formula is very simlar to above. In denominator, instead of covariance of x its STD of x and y\n",
    "\\begin{equation*}\n",
    "\\text{Correlation of x and y}  = \\frac{(x-\\bar{x})(y-\\bar{y})}{STD. of X * STD. of Y}\n",
    "\\end{equation*}"
   ]
  },
  {
   "cell_type": "code",
   "execution_count": 3,
   "id": "b614e1a8-befc-48e1-98b9-2a1e3e8f5726",
   "metadata": {},
   "outputs": [
    {
     "name": "stdout",
     "output_type": "stream",
     "text": [
      "-1.300000000000001\n",
      "16.500000000000007\n"
     ]
    }
   ],
   "source": [
    "net_profit_margin = np.array([4,5,10,9,5,6,12,3]) \n",
    "R_and_D_Expense = np.array([8,10,6,5,7,9,5,10]) \n",
    "slope, intercept = np.polyfit(R_and_D_Expense, net_profit_margin, 1)\n",
    "print(slope)\n",
    "print(intercept)"
   ]
  },
  {
   "cell_type": "code",
   "execution_count": 4,
   "id": "c353ce2d-0f78-4d25-8b87-c29bd07784ee",
   "metadata": {},
   "outputs": [],
   "source": [
    "def slope(dependent, independent):\n",
    "    dep_mean=np.mean(dependent)\n",
    "    indep_mean=np.mean(independent)\n",
    "    dep = dependent - dep_mean\n",
    "    indep = independent - indep_mean\n",
    "    numerator = (np.sum(dep * indep))/(len(dependent))\n",
    "    return (numerator/np.var(independent))"
   ]
  },
  {
   "cell_type": "code",
   "execution_count": 5,
   "id": "6780555e-0129-4dd7-b7b8-7f3f7429d5f9",
   "metadata": {},
   "outputs": [
    {
     "data": {
      "text/plain": [
       "-1.3"
      ]
     },
     "execution_count": 5,
     "metadata": {},
     "output_type": "execute_result"
    }
   ],
   "source": [
    "slope(net_profit_margin,R_and_D_Expense)"
   ]
  },
  {
   "cell_type": "markdown",
   "id": "b1f3aed2-379f-44f4-b1b3-3cd044048e2d",
   "metadata": {},
   "source": [
    "## Linear regression with Kaggle Datasets"
   ]
  },
  {
   "cell_type": "markdown",
   "id": "1ce62227-ea34-47cc-9521-8140ccab2d83",
   "metadata": {},
   "source": [
    "### Data Clean up!!"
   ]
  },
  {
   "cell_type": "code",
   "execution_count": 22,
   "id": "d4584551-eb27-43e9-b9bf-4df1002e73b3",
   "metadata": {},
   "outputs": [],
   "source": [
    "ds = pd.read_csv(\"./Walmart_sales.csv\")"
   ]
  },
  {
   "cell_type": "code",
   "execution_count": 23,
   "id": "cf59d0ac-abb1-4d44-9464-96e543161886",
   "metadata": {},
   "outputs": [
    {
     "data": {
      "text/html": [
       "<div>\n",
       "<style scoped>\n",
       "    .dataframe tbody tr th:only-of-type {\n",
       "        vertical-align: middle;\n",
       "    }\n",
       "\n",
       "    .dataframe tbody tr th {\n",
       "        vertical-align: top;\n",
       "    }\n",
       "\n",
       "    .dataframe thead th {\n",
       "        text-align: right;\n",
       "    }\n",
       "</style>\n",
       "<table border=\"1\" class=\"dataframe\">\n",
       "  <thead>\n",
       "    <tr style=\"text-align: right;\">\n",
       "      <th></th>\n",
       "      <th>Store</th>\n",
       "      <th>Date</th>\n",
       "      <th>Weekly_Sales</th>\n",
       "      <th>Holiday_Flag</th>\n",
       "      <th>Temperature</th>\n",
       "      <th>Fuel_Price</th>\n",
       "      <th>CPI</th>\n",
       "      <th>Unemployment</th>\n",
       "    </tr>\n",
       "  </thead>\n",
       "  <tbody>\n",
       "    <tr>\n",
       "      <th>0</th>\n",
       "      <td>1</td>\n",
       "      <td>05-02-2010</td>\n",
       "      <td>1643690.90</td>\n",
       "      <td>0</td>\n",
       "      <td>42.31</td>\n",
       "      <td>2.572</td>\n",
       "      <td>211.096358</td>\n",
       "      <td>8.106</td>\n",
       "    </tr>\n",
       "    <tr>\n",
       "      <th>1</th>\n",
       "      <td>1</td>\n",
       "      <td>12-02-2010</td>\n",
       "      <td>1641957.44</td>\n",
       "      <td>1</td>\n",
       "      <td>38.51</td>\n",
       "      <td>2.548</td>\n",
       "      <td>211.242170</td>\n",
       "      <td>8.106</td>\n",
       "    </tr>\n",
       "    <tr>\n",
       "      <th>2</th>\n",
       "      <td>1</td>\n",
       "      <td>19-02-2010</td>\n",
       "      <td>1611968.17</td>\n",
       "      <td>0</td>\n",
       "      <td>39.93</td>\n",
       "      <td>2.514</td>\n",
       "      <td>211.289143</td>\n",
       "      <td>8.106</td>\n",
       "    </tr>\n",
       "    <tr>\n",
       "      <th>3</th>\n",
       "      <td>1</td>\n",
       "      <td>26-02-2010</td>\n",
       "      <td>1409727.59</td>\n",
       "      <td>0</td>\n",
       "      <td>46.63</td>\n",
       "      <td>2.561</td>\n",
       "      <td>211.319643</td>\n",
       "      <td>8.106</td>\n",
       "    </tr>\n",
       "    <tr>\n",
       "      <th>4</th>\n",
       "      <td>1</td>\n",
       "      <td>05-03-2010</td>\n",
       "      <td>1554806.68</td>\n",
       "      <td>0</td>\n",
       "      <td>46.50</td>\n",
       "      <td>2.625</td>\n",
       "      <td>211.350143</td>\n",
       "      <td>8.106</td>\n",
       "    </tr>\n",
       "  </tbody>\n",
       "</table>\n",
       "</div>"
      ],
      "text/plain": [
       "   Store        Date  Weekly_Sales  Holiday_Flag  Temperature  Fuel_Price  \\\n",
       "0      1  05-02-2010    1643690.90             0        42.31       2.572   \n",
       "1      1  12-02-2010    1641957.44             1        38.51       2.548   \n",
       "2      1  19-02-2010    1611968.17             0        39.93       2.514   \n",
       "3      1  26-02-2010    1409727.59             0        46.63       2.561   \n",
       "4      1  05-03-2010    1554806.68             0        46.50       2.625   \n",
       "\n",
       "          CPI  Unemployment  \n",
       "0  211.096358         8.106  \n",
       "1  211.242170         8.106  \n",
       "2  211.289143         8.106  \n",
       "3  211.319643         8.106  \n",
       "4  211.350143         8.106  "
      ]
     },
     "execution_count": 23,
     "metadata": {},
     "output_type": "execute_result"
    }
   ],
   "source": [
    "ds.head()"
   ]
  },
  {
   "cell_type": "code",
   "execution_count": 24,
   "id": "7f8d42ae-7ee7-43c1-8f8b-443f79d4cade",
   "metadata": {},
   "outputs": [
    {
     "data": {
      "text/plain": [
       "array([ 1,  2,  3,  4,  5,  6,  7,  8,  9, 10, 11, 12, 13, 14, 15, 16, 17,\n",
       "       18, 19, 20, 21, 22, 23, 24, 25, 26, 27, 28, 29, 30, 31, 32, 33, 34,\n",
       "       35, 36, 37, 38, 39, 40, 41, 42, 43, 44, 45])"
      ]
     },
     "execution_count": 24,
     "metadata": {},
     "output_type": "execute_result"
    }
   ],
   "source": [
    "ds[\"Store\"].unique()"
   ]
  },
  {
   "cell_type": "code",
   "execution_count": 26,
   "id": "70e94ef5-d062-4ba9-8272-53dc7ae380eb",
   "metadata": {},
   "outputs": [],
   "source": [
    "ds['Date'] = pd.to_datetime(ds['Date'], format='%d-%m-%Y')"
   ]
  },
  {
   "cell_type": "code",
   "execution_count": 31,
   "id": "3af17e85-7889-4b02-9e46-ff35f8e5869a",
   "metadata": {},
   "outputs": [
    {
     "name": "stdout",
     "output_type": "stream",
     "text": [
      "2010-02-05 00:00:00\n",
      "2012-10-26 00:00:00\n"
     ]
    }
   ],
   "source": [
    "print(ds[\"Date\"].min())\n",
    "print(ds[\"Date\"].max())"
   ]
  },
  {
   "cell_type": "code",
   "execution_count": 38,
   "id": "f9caa822-36e3-480c-a9bb-69428393921e",
   "metadata": {},
   "outputs": [
    {
     "data": {
      "text/plain": [
       "False"
      ]
     },
     "execution_count": 38,
     "metadata": {},
     "output_type": "execute_result"
    }
   ],
   "source": [
    "ds[\"Fuel_Price\"].isnull().any()"
   ]
  },
  {
   "cell_type": "markdown",
   "id": "2e793b24-fb5d-4193-923d-cecaef43bd73",
   "metadata": {},
   "source": [
    "## Perform linear regerssion with fuel price and sales"
   ]
  },
  {
   "cell_type": "code",
   "execution_count": 89,
   "id": "51489494-8a9f-4ee3-b105-b6fff39c3411",
   "metadata": {},
   "outputs": [],
   "source": [
    "total_data_len = len(sales)\n",
    "train_data_len = round(total_data_len*0.7)\n",
    "validation_data_len = total_data_len - train_data_len\n",
    "train = ds[0:train_data_len].copy()\n",
    "validation = ds[train_data_len:total_data_len].copy()"
   ]
  },
  {
   "cell_type": "code",
   "execution_count": 90,
   "id": "b9d0c43b-c8f2-4fa7-b242-5bbfb3fb3e02",
   "metadata": {},
   "outputs": [
    {
     "name": "stdout",
     "output_type": "stream",
     "text": [
      "4.620508784697243e-08\n",
      "3.1933842764413742\n"
     ]
    }
   ],
   "source": [
    "sales = train[\"Weekly_Sales\"].values ## Dependent Variable\n",
    "FuelPrice = train[\"Fuel_Price\"].values ## Independent Variable\n",
    "slope, intercept = np.polyfit(sales, FuelPrice, 1)\n",
    "print(slope)\n",
    "print(intercept)"
   ]
  },
  {
   "cell_type": "code",
   "execution_count": 91,
   "id": "84f680d3-6a8e-4001-a338-6d3c89b57889",
   "metadata": {},
   "outputs": [],
   "source": [
    "def estimateSales(fuelPrice):\n",
    "    return (3.1933842764413742 * fuelPrice)"
   ]
  },
  {
   "cell_type": "code",
   "execution_count": 92,
   "id": "01d1b05c-6eb3-476a-8ef2-d25f3dd24de1",
   "metadata": {},
   "outputs": [],
   "source": [
    "validation['estimated_weekly_sales'] = validation['Fuel_Price'].apply(estimateSales)"
   ]
  },
  {
   "cell_type": "code",
   "execution_count": 93,
   "id": "292b1dc6-80b2-4add-8a06-12c4da1fa1fd",
   "metadata": {},
   "outputs": [
    {
     "data": {
      "text/html": [
       "<div>\n",
       "<style scoped>\n",
       "    .dataframe tbody tr th:only-of-type {\n",
       "        vertical-align: middle;\n",
       "    }\n",
       "\n",
       "    .dataframe tbody tr th {\n",
       "        vertical-align: top;\n",
       "    }\n",
       "\n",
       "    .dataframe thead th {\n",
       "        text-align: right;\n",
       "    }\n",
       "</style>\n",
       "<table border=\"1\" class=\"dataframe\">\n",
       "  <thead>\n",
       "    <tr style=\"text-align: right;\">\n",
       "      <th></th>\n",
       "      <th>Store</th>\n",
       "      <th>Date</th>\n",
       "      <th>Weekly_Sales</th>\n",
       "      <th>Holiday_Flag</th>\n",
       "      <th>Temperature</th>\n",
       "      <th>Fuel_Price</th>\n",
       "      <th>CPI</th>\n",
       "      <th>Unemployment</th>\n",
       "      <th>estimated_weekly_sales</th>\n",
       "    </tr>\n",
       "  </thead>\n",
       "  <tbody>\n",
       "    <tr>\n",
       "      <th>1545</th>\n",
       "      <td>11</td>\n",
       "      <td>2012-04-20</td>\n",
       "      <td>1315356.99</td>\n",
       "      <td>0</td>\n",
       "      <td>71.97</td>\n",
       "      <td>3.877</td>\n",
       "      <td>225.068954</td>\n",
       "      <td>6.664</td>\n",
       "      <td>12.380751</td>\n",
       "    </tr>\n",
       "    <tr>\n",
       "      <th>1546</th>\n",
       "      <td>11</td>\n",
       "      <td>2012-04-27</td>\n",
       "      <td>1236238.29</td>\n",
       "      <td>0</td>\n",
       "      <td>73.40</td>\n",
       "      <td>3.814</td>\n",
       "      <td>225.124353</td>\n",
       "      <td>6.664</td>\n",
       "      <td>12.179568</td>\n",
       "    </tr>\n",
       "    <tr>\n",
       "      <th>1547</th>\n",
       "      <td>11</td>\n",
       "      <td>2012-05-04</td>\n",
       "      <td>1370251.22</td>\n",
       "      <td>0</td>\n",
       "      <td>79.07</td>\n",
       "      <td>3.749</td>\n",
       "      <td>225.179751</td>\n",
       "      <td>6.664</td>\n",
       "      <td>11.971998</td>\n",
       "    </tr>\n",
       "    <tr>\n",
       "      <th>1548</th>\n",
       "      <td>11</td>\n",
       "      <td>2012-05-11</td>\n",
       "      <td>1300147.07</td>\n",
       "      <td>0</td>\n",
       "      <td>75.13</td>\n",
       "      <td>3.688</td>\n",
       "      <td>225.235150</td>\n",
       "      <td>6.664</td>\n",
       "      <td>11.777201</td>\n",
       "    </tr>\n",
       "    <tr>\n",
       "      <th>1549</th>\n",
       "      <td>11</td>\n",
       "      <td>2012-05-18</td>\n",
       "      <td>1352442.31</td>\n",
       "      <td>0</td>\n",
       "      <td>72.53</td>\n",
       "      <td>3.630</td>\n",
       "      <td>225.251202</td>\n",
       "      <td>6.664</td>\n",
       "      <td>11.591985</td>\n",
       "    </tr>\n",
       "    <tr>\n",
       "      <th>...</th>\n",
       "      <td>...</td>\n",
       "      <td>...</td>\n",
       "      <td>...</td>\n",
       "      <td>...</td>\n",
       "      <td>...</td>\n",
       "      <td>...</td>\n",
       "      <td>...</td>\n",
       "      <td>...</td>\n",
       "      <td>...</td>\n",
       "    </tr>\n",
       "    <tr>\n",
       "      <th>2202</th>\n",
       "      <td>16</td>\n",
       "      <td>2011-03-11</td>\n",
       "      <td>457504.35</td>\n",
       "      <td>0</td>\n",
       "      <td>29.36</td>\n",
       "      <td>3.372</td>\n",
       "      <td>192.058484</td>\n",
       "      <td>6.614</td>\n",
       "      <td>10.768092</td>\n",
       "    </tr>\n",
       "    <tr>\n",
       "      <th>2203</th>\n",
       "      <td>16</td>\n",
       "      <td>2011-03-18</td>\n",
       "      <td>497373.49</td>\n",
       "      <td>0</td>\n",
       "      <td>36.50</td>\n",
       "      <td>3.406</td>\n",
       "      <td>192.123798</td>\n",
       "      <td>6.614</td>\n",
       "      <td>10.876667</td>\n",
       "    </tr>\n",
       "    <tr>\n",
       "      <th>2204</th>\n",
       "      <td>16</td>\n",
       "      <td>2011-03-25</td>\n",
       "      <td>465279.68</td>\n",
       "      <td>0</td>\n",
       "      <td>32.61</td>\n",
       "      <td>3.414</td>\n",
       "      <td>192.196484</td>\n",
       "      <td>6.614</td>\n",
       "      <td>10.902214</td>\n",
       "    </tr>\n",
       "    <tr>\n",
       "      <th>2205</th>\n",
       "      <td>16</td>\n",
       "      <td>2011-04-01</td>\n",
       "      <td>459756.11</td>\n",
       "      <td>0</td>\n",
       "      <td>35.75</td>\n",
       "      <td>3.461</td>\n",
       "      <td>192.269171</td>\n",
       "      <td>6.339</td>\n",
       "      <td>11.052303</td>\n",
       "    </tr>\n",
       "    <tr>\n",
       "      <th>2206</th>\n",
       "      <td>16</td>\n",
       "      <td>2011-04-08</td>\n",
       "      <td>439276.50</td>\n",
       "      <td>0</td>\n",
       "      <td>38.04</td>\n",
       "      <td>3.532</td>\n",
       "      <td>192.341857</td>\n",
       "      <td>6.339</td>\n",
       "      <td>11.279033</td>\n",
       "    </tr>\n",
       "  </tbody>\n",
       "</table>\n",
       "<p>662 rows × 9 columns</p>\n",
       "</div>"
      ],
      "text/plain": [
       "      Store       Date  Weekly_Sales  Holiday_Flag  Temperature  Fuel_Price  \\\n",
       "1545     11 2012-04-20    1315356.99             0        71.97       3.877   \n",
       "1546     11 2012-04-27    1236238.29             0        73.40       3.814   \n",
       "1547     11 2012-05-04    1370251.22             0        79.07       3.749   \n",
       "1548     11 2012-05-11    1300147.07             0        75.13       3.688   \n",
       "1549     11 2012-05-18    1352442.31             0        72.53       3.630   \n",
       "...     ...        ...           ...           ...          ...         ...   \n",
       "2202     16 2011-03-11     457504.35             0        29.36       3.372   \n",
       "2203     16 2011-03-18     497373.49             0        36.50       3.406   \n",
       "2204     16 2011-03-25     465279.68             0        32.61       3.414   \n",
       "2205     16 2011-04-01     459756.11             0        35.75       3.461   \n",
       "2206     16 2011-04-08     439276.50             0        38.04       3.532   \n",
       "\n",
       "             CPI  Unemployment  estimated_weekly_sales  \n",
       "1545  225.068954         6.664               12.380751  \n",
       "1546  225.124353         6.664               12.179568  \n",
       "1547  225.179751         6.664               11.971998  \n",
       "1548  225.235150         6.664               11.777201  \n",
       "1549  225.251202         6.664               11.591985  \n",
       "...          ...           ...                     ...  \n",
       "2202  192.058484         6.614               10.768092  \n",
       "2203  192.123798         6.614               10.876667  \n",
       "2204  192.196484         6.614               10.902214  \n",
       "2205  192.269171         6.339               11.052303  \n",
       "2206  192.341857         6.339               11.279033  \n",
       "\n",
       "[662 rows x 9 columns]"
      ]
     },
     "execution_count": 93,
     "metadata": {},
     "output_type": "execute_result"
    }
   ],
   "source": [
    "validation"
   ]
  },
  {
   "cell_type": "code",
   "execution_count": null,
   "id": "32e34a3d-6b57-46a1-a7ba-c1528614da9e",
   "metadata": {},
   "outputs": [],
   "source": []
  },
  {
   "cell_type": "code",
   "execution_count": 52,
   "id": "f7047eaa-2386-46db-ba1a-63d9186a2ae1",
   "metadata": {},
   "outputs": [
    {
     "name": "stdout",
     "output_type": "stream",
     "text": [
      "6435\n",
      "6435\n"
     ]
    }
   ],
   "source": [
    "print(len(sales))\n",
    "print(len(FuelPrice))"
   ]
  },
  {
   "cell_type": "code",
   "execution_count": null,
   "id": "eac9c8ad-06e8-4033-8fc5-09b0dc6dd332",
   "metadata": {},
   "outputs": [],
   "source": [
    "train_sale"
   ]
  }
 ],
 "metadata": {
  "kernelspec": {
   "display_name": "Python 3 (ipykernel)",
   "language": "python",
   "name": "python3"
  },
  "language_info": {
   "codemirror_mode": {
    "name": "ipython",
    "version": 3
   },
   "file_extension": ".py",
   "mimetype": "text/x-python",
   "name": "python",
   "nbconvert_exporter": "python",
   "pygments_lexer": "ipython3",
   "version": "3.10.13"
  }
 },
 "nbformat": 4,
 "nbformat_minor": 5
}
